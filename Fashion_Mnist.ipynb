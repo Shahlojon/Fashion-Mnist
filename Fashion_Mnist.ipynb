{
  "nbformat": 4,
  "nbformat_minor": 0,
  "metadata": {
    "colab": {
      "name": "Fashion Mnist.ipynb",
      "provenance": [],
      "collapsed_sections": [],
      "authorship_tag": "ABX9TyOtwZUJw+HzxMJ9wiVJJ4Po",
      "include_colab_link": true
    },
    "kernelspec": {
      "name": "python3",
      "display_name": "Python 3"
    }
  },
  "cells": [
    {
      "cell_type": "markdown",
      "metadata": {
        "id": "view-in-github",
        "colab_type": "text"
      },
      "source": [
        "<a href=\"https://colab.research.google.com/github/Shahlojon/Fashion-Mnist/blob/master/Fashion_Mnist.ipynb\" target=\"_parent\"><img src=\"https://colab.research.google.com/assets/colab-badge.svg\" alt=\"Open In Colab\"/></a>"
      ]
    },
    {
      "cell_type": "markdown",
      "metadata": {
        "id": "vIxz92iI0N88",
        "colab_type": "text"
      },
      "source": [
        "<h1 align=\"center\"> <ins> Набор данных Fashion MNIST</ins></h1>"
      ]
    },
    {
      "cell_type": "markdown",
      "metadata": {
        "id": "x-lkc5pxz5sl",
        "colab_type": "text"
      },
      "source": [
        "<h2>В данной работе мы будем использовать глубокую нейронную сеть, которая обучится классифицировать изображения из набора данных Fashion MNIST.</h2>\n",
        "\n",
        "<table>\n",
        "  <tr><td>\n",
        "    <img src=\"https://i.pinimg.com/originals/01/20/4b/01204be9b14e773d4a58b0207cac2cbf.gif\"\n",
        "         alt=\"Fashion MNIST sprite\"  width=\"600\">\n",
        "  </td></tr>\n",
        "  <tr><td align=\"center\">\n",
        "    <b>Figure 1.</b> <a href=\"https://github.com/zalandoresearch/fashion-mnist\"> Образцы Fashion-MNIST</a> (Zalando, лицензия MIT).<br/>&nbsp;\n",
        "  </td></tr>\n",
        "</table>"
      ]
    },
    {
      "cell_type": "markdown",
      "metadata": {
        "id": "N_O0VQuG0fD1",
        "colab_type": "text"
      },
      "source": [
        "Наш набор состоит из изображений размером 28х28, каждый пиксель которого представляет собой оттенок серого."
      ]
    },
    {
      "cell_type": "markdown",
      "metadata": {
        "id": "RQ3AdkMskqGf",
        "colab_type": "text"
      },
      "source": [
        "<b><h3>`TensorFlow`</h3></b> \n",
        " <b>**`TensorFlow`**</b> -открытая программная библиотека для машинного обучения, разработанная компанией Google для решения задач построения и тренировки нейронной сети с целью автоматического нахождения и классификации образов, достигая качества человеческого восприятия.![alt text](data:image/jpeg;base64,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)"
      ]
    },
    {
      "cell_type": "markdown",
      "metadata": {
        "id": "P0unjPAG0tY3",
        "colab_type": "text"
      },
      "source": [
        "Набор для TensorFlow предоставляет коллекцию готовых к использованию данных для обучения.  Сначала установим TensorFlow последнии версии  и импортируем Tensorflow. Затем мы загружаем fashion-mnist, который является одним из наборов данных Keras."
      ]
    },
    {
      "cell_type": "code",
      "metadata": {
        "id": "N-Fdp46AggOt",
        "colab_type": "code",
        "outputId": "8c6b32b7-135e-4859-8f5d-f832107cfa32",
        "colab": {
          "base_uri": "https://localhost:8080/",
          "height": 34
        }
      },
      "source": [
        "# TensorFlow и tf.keras\n",
        "import tensorflow as tf\n",
        "from tensorflow import keras\n",
        "\n",
        "# Вспомогательные библиотеки\n",
        "import numpy as np\n",
        "import matplotlib.pyplot as plt\n",
        "#Печатаем версию tensorflow\n",
        "print(tf.__version__)"
      ],
      "execution_count": 0,
      "outputs": [
        {
          "output_type": "stream",
          "text": [
            "2.2.0\n"
          ],
          "name": "stdout"
        }
      ]
    },
    {
      "cell_type": "code",
      "metadata": {
        "id": "8re1ZjZpoloJ",
        "colab_type": "code",
        "outputId": "fa633c99-7fb9-418c-bded-13caad037de8",
        "colab": {
          "base_uri": "https://localhost:8080/",
          "height": 34
        }
      },
      "source": [
        "# Загрузим fashion-mnist \n",
        "(train_images, train_labels), (test_images, test_labels) = tf.keras.datasets.fashion_mnist.load_data()\n",
        "print(\"train_images shape:\", train_images.shape, \"train_labels shape:\", train_labels.shape)"
      ],
      "execution_count": 0,
      "outputs": [
        {
          "output_type": "stream",
          "text": [
            "train_images shape: (60000, 28, 28) train_labels shape: (60000,)\n"
          ],
          "name": "stdout"
        }
      ]
    },
    {
      "cell_type": "markdown",
      "metadata": {
        "id": "bs8jJP9ttgBi",
        "colab_type": "text"
      },
      "source": [
        "Загрузка датасета возвращает четыре массива NumPy:\n",
        "\n",
        "* Массивы `train_images` и `train_labels` являются *тренировочным сетом* — данными, на которых модель будет обучаться.\n",
        "* Модель тестируется на *проверочном сете*, а именно массивах `test_images` и `test_labels`.\n",
        "\n",
        "Изображения являются 28х28 массивами NumPy, где значение пикселей варьируется от 0 до 255. *Метки (labels)* - это массив целых чисел от 0 до 9. Они соответствуют *классам* одежды изображенной на картинках:\n",
        "\n",
        "<table>\n",
        "  <tr>\n",
        "    <th>Label</th>\n",
        "    <th>Class</th>\n",
        "  </tr>\n",
        "  <tr>\n",
        "    <td>0</td>\n",
        "    <td>T-shirt/top</td>\n",
        "  </tr>\n",
        "  <tr>\n",
        "    <td>1</td>\n",
        "    <td>Trouser</td>\n",
        "  </tr>\n",
        "    <tr>\n",
        "    <td>2</td>\n",
        "    <td>Pullover</td>\n",
        "  </tr>\n",
        "    <tr>\n",
        "    <td>3</td>\n",
        "    <td>Dress</td>\n",
        "  </tr>\n",
        "    <tr>\n",
        "    <td>4</td>\n",
        "    <td>Coat</td>\n",
        "  </tr>\n",
        "    <tr>\n",
        "    <td>5</td>\n",
        "    <td>Sandal</td>\n",
        "  </tr>\n",
        "    <tr>\n",
        "    <td>6</td>\n",
        "    <td>Shirt</td>\n",
        "  </tr>\n",
        "    <tr>\n",
        "    <td>7</td>\n",
        "    <td>Sneaker</td>\n",
        "  </tr>\n",
        "    <tr>\n",
        "    <td>8</td>\n",
        "    <td>Bag</td>\n",
        "  </tr>\n",
        "    <tr>\n",
        "    <td>9</td>\n",
        "    <td>Ankle boot</td>\n",
        "  </tr>\n",
        "</table>\n",
        "\n",
        "Каждому изображению соответствует единственная метка. Так как *названия классов* не включены в датасет, сохраним их тут для дальнейшего использования при построении изображений в переменную `fashion_mnist_labels`:"
      ]
    },
    {
      "cell_type": "code",
      "metadata": {
        "id": "flLqZ-JsgmnO",
        "colab_type": "code",
        "outputId": "e2f0baba-29f6-4399-8947-1e5e06b6bb5c",
        "colab": {
          "base_uri": "https://localhost:8080/",
          "height": 335
        }
      },
      "source": [
        "# Данный массив хранит названия меток изображения\n",
        "fashion_mnist_labels = [\"T-shirt/top\",  # index 0\n",
        "                        \"Trouser\",      # index 1\n",
        "                        \"Pullover\",     # index 2 \n",
        "                        \"Dress\",        # index 3 \n",
        "                        \"Coat\",         # index 4\n",
        "                        \"Sandal\",       # index 5\n",
        "                        \"Shirt\",        # index 6 \n",
        "                        \"Sneaker\",      # index 7 \n",
        "                        \"Bag\",          # index 8 \n",
        "                        \"Ankle boot\"]   # index 9\n",
        "\n",
        "# Печатаем номера наборов обучения и тестирования\n",
        "print(train_images.shape[0], 'train set')\n",
        "print(test_images.shape[0], 'test set')\n",
        "\n",
        "# Индекс изображение мы можем выбрать любое число от 0 до 59,999\n",
        "img_index = 5\n",
        "# train_labels содержит метки от 0 до 9\n",
        "label_index = train_labels[img_index]\n",
        "#Печатаем метку, например под y = 2 расположен Поллувер\n",
        "print (\"y = \" + str(label_index) + \" \" +(fashion_mnist_labels[label_index]))\n",
        "# Показываем одну картику из базы\n",
        "plt.imshow(train_images[img_index])"
      ],
      "execution_count": 0,
      "outputs": [
        {
          "output_type": "stream",
          "text": [
            "60000 train set\n",
            "10000 test set\n",
            "y = 2 Pullover\n"
          ],
          "name": "stdout"
        },
        {
          "output_type": "execute_result",
          "data": {
            "text/plain": [
              "<matplotlib.image.AxesImage at 0x7fc711c42320>"
            ]
          },
          "metadata": {
            "tags": []
          },
          "execution_count": 54
        },
        {
          "output_type": "display_data",
          "data": {
            "image/png": "[encoded data removed]",
            "text/plain": [
              "<Figure size 432x288 with 1 Axes>"
            ]
          },
          "metadata": {
            "tags": [],
            "needs_background": "light"
          }
        }
      ]
    },
    {
      "cell_type": "markdown",
      "metadata": {
        "id": "D4FBOIwavVci",
        "colab_type": "text"
      },
      "source": [
        "<p>Нормализируем величину данных, для того чтобы  они имели примерно одинаковый масштаб. Для этого мы поделим значения на <ins color=\"#3AE2CE\">255</ins>. Важно, чтобы тренировочный сет и проверочный сет были предобработаны    одинаково:</p>\n",
        "\n"
      ]
    },
    {
      "cell_type": "code",
      "metadata": {
        "id": "8DghlAjqgwEQ",
        "colab_type": "code",
        "colab": {}
      },
      "source": [
        "train_images = train_images / 255.0\n",
        "\n",
        "test_images = test_images / 255.0"
      ],
      "execution_count": 0,
      "outputs": []
    },
    {
      "cell_type": "code",
      "metadata": {
        "id": "nBAcyoihg1ji",
        "colab_type": "code",
        "outputId": "e47cd6a7-9129-4dec-f211-2677eed275ff",
        "colab": {
          "base_uri": "https://localhost:8080/",
          "height": 52
        }
      },
      "source": [
        "print(\"Количество тренировочных данных - \" + str(len(train_images)))\n",
        "print(\"Количество тестовых данных - \" + str(len(test_images)))"
      ],
      "execution_count": 0,
      "outputs": [
        {
          "output_type": "stream",
          "text": [
            "Количество тренировачных данных - 60000\n",
            "Количество тестовых данных - 10000\n"
          ],
          "name": "stdout"
        }
      ]
    },
    {
      "cell_type": "markdown",
      "metadata": {
        "id": "-fX09zsvwpm7",
        "colab_type": "text"
      },
      "source": [
        "Чтобы убедиться, что данные в правильном формате и мы готовы построить и обучить нейросеть, выведем на экран первые 25 изображений из <ins>*тренировочного сета* </ins>и отобразим под ними наименования их классов."
      ]
    },
    {
      "cell_type": "code",
      "metadata": {
        "id": "K8XhaL4JplbR",
        "colab_type": "code",
        "outputId": "95dfdab0-c6e9-4084-8d7b-c8298cf5fb64",
        "colab": {
          "base_uri": "https://localhost:8080/",
          "height": 588
        }
      },
      "source": [
        "plt.figure(figsize=(10,10))\n",
        "for i in range(25):\n",
        "    plt.subplot(5,5,i+1)\n",
        "    plt.xticks([])\n",
        "    plt.yticks([])\n",
        "    plt.grid(False)\n",
        "    plt.imshow(train_images[i], cmap=plt.cm.binary)\n",
        "    plt.xlabel(fashion_mnist_labels[train_labels[i]])\n",
        "plt.show()"
      ],
      "execution_count": 0,
      "outputs": [
        {
          "output_type": "display_data",
          "data": {
            "image/png": "[encoded data removed]",
            "text/plain": [
              "<Figure size 720x720 with 25 Axes>"
            ]
          },
          "metadata": {
            "tags": []
          }
        }
      ]
    },
    {
      "cell_type": "markdown",
      "metadata": {
        "id": "5kgDoMB6xUet",
        "colab_type": "text"
      },
      "source": [
        "<H3>Определим нашу модель</H3>\n",
        "\n",
        "*   Построим модель\n",
        "*   Настроим слои\n",
        "\n"
      ]
    },
    {
      "cell_type": "code",
      "metadata": {
        "id": "b_8kd5D2noF2",
        "colab_type": "code",
        "outputId": "feb5737a-db42-4ff3-a1c8-c8ffcb0efb18",
        "colab": {
          "base_uri": "https://localhost:8080/",
          "height": 265
        }
      },
      "source": [
        "model = keras.Sequential([\n",
        "    keras.layers.Flatten(input_shape=(28, 28)),\n",
        "    keras.layers.Dense(128, activation='relu'),\n",
        "    keras.layers.Dense(10, activation='softmax')\n",
        "])\n",
        "model.summary()"
      ],
      "execution_count": 0,
      "outputs": [
        {
          "output_type": "stream",
          "text": [
            "Model: \"sequential_4\"\n",
            "_________________________________________________________________\n",
            "Layer (type)                 Output Shape              Param #   \n",
            "=================================================================\n",
            "flatten_4 (Flatten)          (None, 784)               0         \n",
            "_________________________________________________________________\n",
            "dense_8 (Dense)              (None, 128)               100480    \n",
            "_________________________________________________________________\n",
            "dense_9 (Dense)              (None, 10)                1290      \n",
            "=================================================================\n",
            "Total params: 101,770\n",
            "Trainable params: 101,770\n",
            "Non-trainable params: 0\n",
            "_________________________________________________________________\n"
          ],
          "name": "stdout"
        }
      ]
    },
    {
      "cell_type": "markdown",
      "metadata": {
        "id": "RQ6Jvt7Vxxew",
        "colab_type": "text"
      },
      "source": [
        "Первый слой этой сети - `tf.keras.layers.Flatten`, преобразует формат изображения из двумерного массива (28 на 28 пикселей) в одномерный (размерностью 28 * 28 = 784 пикселя). Слой извлекает строки пикселей из изображения и выстраивает их в один ряд. Этот слой не имеет параметров для обучения; он только переформатирует данные.\n",
        "\n",
        "После разложения пикселей, нейросеть содержит два слоя `tf.keras.layers.Dense`. Это полносвязные нейронные слои. Первый `Dense` слой состоит из 128 узлов (или нейронов). Второй (и последний) 10-узловой *softmax* слой возвращает массив из 10 вероятностных оценок дающих в сумме 1. Каждый узел содержит оценку указывающую вероятность принадлежности изображения к одному из 10 классов.\n",
        "\n",
        "### Сконфигурируем процесс обучения с помощью API compile () перед обучением модели. Он получает три аргумента: \n",
        "\n",
        "* *Функция потерь (Loss function)* — измеряет точность модели во время обучения. Мы хотим минимизировать эту функцию чтоб \"направить\" модель в верном направлении.\n",
        "* *Оптимизатор (Optimizer)*  — показывает каким образом обновляется модель на основе входных данных и функции потерь.\n",
        "* *Метрики (Metrics)* — используются для мониторинга тренировки и тестирования модели. Наш пример использует метрику *accuracy* равную доле правильно классифицированных изображений."
      ]
    },
    {
      "cell_type": "code",
      "metadata": {
        "id": "yj-VT9wdg8h_",
        "colab_type": "code",
        "colab": {}
      },
      "source": [
        "model.compile(optimizer='adam',\n",
        "              loss='sparse_categorical_crossentropy',\n",
        "              metrics=['accuracy'])"
      ],
      "execution_count": 0,
      "outputs": []
    },
    {
      "cell_type": "markdown",
      "metadata": {
        "id": "oYGT0jhdyY-0",
        "colab_type": "text"
      },
      "source": [
        "Для начала обучения, вызовем метод model.fit, который называется так, поскольку \"тренирует (fits)\" модель на тренировочных данных. "
      ]
    },
    {
      "cell_type": "code",
      "metadata": {
        "id": "8QZKet_yhF_7",
        "colab_type": "code",
        "outputId": "7b3eb36d-db1e-4d5a-c90b-cf088782aeed",
        "colab": {
          "base_uri": "https://localhost:8080/",
          "height": 390
        }
      },
      "source": [
        "model.fit(train_images, train_labels, epochs=10)"
      ],
      "execution_count": 0,
      "outputs": [
        {
          "output_type": "stream",
          "text": [
            "Epoch 1/10\n",
            "1875/1875 [==============================] - 3s 2ms/step - loss: 0.4978 - accuracy: 0.8257\n",
            "Epoch 2/10\n",
            "1875/1875 [==============================] - 3s 2ms/step - loss: 0.3770 - accuracy: 0.8648\n",
            "Epoch 3/10\n",
            "1875/1875 [==============================] - 3s 2ms/step - loss: 0.3389 - accuracy: 0.8763\n",
            "Epoch 4/10\n",
            "1875/1875 [==============================] - 3s 2ms/step - loss: 0.3149 - accuracy: 0.8844\n",
            "Epoch 5/10\n",
            "1875/1875 [==============================] - 3s 2ms/step - loss: 0.2971 - accuracy: 0.8898\n",
            "Epoch 6/10\n",
            "1875/1875 [==============================] - 3s 2ms/step - loss: 0.2826 - accuracy: 0.8944\n",
            "Epoch 7/10\n",
            "1875/1875 [==============================] - 3s 2ms/step - loss: 0.2706 - accuracy: 0.8991\n",
            "Epoch 8/10\n",
            "1875/1875 [==============================] - 3s 2ms/step - loss: 0.2594 - accuracy: 0.9045\n",
            "Epoch 9/10\n",
            "1875/1875 [==============================] - 3s 2ms/step - loss: 0.2500 - accuracy: 0.9066\n",
            "Epoch 10/10\n",
            "1875/1875 [==============================] - 3s 2ms/step - loss: 0.2425 - accuracy: 0.9087\n"
          ],
          "name": "stdout"
        },
        {
          "output_type": "execute_result",
          "data": {
            "text/plain": [
              "<tensorflow.python.keras.callbacks.History at 0x7fc71bf13e48>"
            ]
          },
          "metadata": {
            "tags": []
          },
          "execution_count": 60
        }
      ]
    },
    {
      "cell_type": "markdown",
      "metadata": {
        "id": "Fx9YTHHUynsT",
        "colab_type": "text"
      },
      "source": [
        "Оценим точность выполнения нашей модели"
      ]
    },
    {
      "cell_type": "code",
      "metadata": {
        "id": "1x4iRDajhIv6",
        "colab_type": "code",
        "outputId": "eda67dbe-587b-4dea-811d-f6e94dcfc680",
        "colab": {
          "base_uri": "https://localhost:8080/",
          "height": 70
        }
      },
      "source": [
        "# Evaluate the model on test set\n",
        "score = model.evaluate(train_images, train_labels, verbose=2)\n",
        "\n",
        "# Print test accuracy\n",
        "print('\\n', 'Точность выполнения теста:', score[1])"
      ],
      "execution_count": 0,
      "outputs": [
        {
          "output_type": "stream",
          "text": [
            "1875/1875 - 2s - loss: 0.2175 - accuracy: 0.9186\n",
            "\n",
            " Точность выполнения теста: 0.9186166524887085\n"
          ],
          "name": "stdout"
        }
      ]
    },
    {
      "cell_type": "markdown",
      "metadata": {
        "id": "x-fL7QhezICb",
        "colab_type": "text"
      },
      "source": [
        "## Сделать предсказания\n",
        "\n",
        "Теперь, когда модель обучена, мы можем использовать ее чтобы сделать предсказания по поводу нескольких изображений:"
      ]
    },
    {
      "cell_type": "code",
      "metadata": {
        "id": "Cm6TuTBCkWgo",
        "colab_type": "code",
        "colab": {}
      },
      "source": [
        "predictions = model.predict(test_images)"
      ],
      "execution_count": 0,
      "outputs": []
    },
    {
      "cell_type": "markdown",
      "metadata": {
        "id": "oqCZduV6zPbF",
        "colab_type": "text"
      },
      "source": [
        "Прогноз представляет из себя массив из 10 чисел. Они описывают \"уверенность\" (confidence) модели в том, насколько изображение соответствует каждому из 10 разных видов одежды. Мы можем посмотреть какой метке соответствует максимальное значение:"
      ]
    },
    {
      "cell_type": "code",
      "metadata": {
        "id": "EGC2pkzNv51-",
        "colab_type": "code",
        "outputId": "d467c7e2-7fd0-4d0f-849c-39fe1dfe3f42",
        "colab": {
          "base_uri": "https://localhost:8080/",
          "height": 34
        }
      },
      "source": [
        "np.argmax(predictions[0])"
      ],
      "execution_count": 0,
      "outputs": [
        {
          "output_type": "execute_result",
          "data": {
            "text/plain": [
              "9"
            ]
          },
          "metadata": {
            "tags": []
          },
          "execution_count": 13
        }
      ]
    },
    {
      "cell_type": "code",
      "metadata": {
        "id": "xc0wXtGgv8z0",
        "colab_type": "code",
        "outputId": "48bca4e0-dc76-4412-ce42-29da245c83bc",
        "colab": {
          "base_uri": "https://localhost:8080/",
          "height": 34
        }
      },
      "source": [
        "test_labels[0]"
      ],
      "execution_count": 0,
      "outputs": [
        {
          "output_type": "execute_result",
          "data": {
            "text/plain": [
              "9"
            ]
          },
          "metadata": {
            "tags": []
          },
          "execution_count": 14
        }
      ]
    },
    {
      "cell_type": "markdown",
      "metadata": {
        "id": "zQtrquuUzVp8",
        "colab_type": "text"
      },
      "source": [
        "Мы можем построить график, чтобы взглянуть на полный набор из 10 предсказаний классов. Для этого создадим функцию <ins>`plot_image`</ins>"
      ]
    },
    {
      "cell_type": "code",
      "metadata": {
        "id": "IWAEwNm6v_sF",
        "colab_type": "code",
        "colab": {}
      },
      "source": [
        "def plot_image(i, predictions_array, true_label, img):\n",
        "  predictions_array, true_label, img = predictions_array[i], true_label[i], img[i]\n",
        "  plt.grid(False)\n",
        "  plt.xticks([])\n",
        "  plt.yticks([])\n",
        "\n",
        "  plt.imshow(img, cmap=plt.cm.binary)\n",
        "\n",
        "  predicted_label = np.argmax(predictions_array)\n",
        "  if predicted_label == true_label:\n",
        "    color = 'blue'\n",
        "  else:\n",
        "    color = 'red'\n",
        "\n",
        "  plt.xlabel(\"{} {:2.0f}% ({})\".format(fashion_mnist_labels [predicted_label],\n",
        "                                100*np.max(predictions_array),\n",
        "                                fashion_mnist_labels [true_label]),\n",
        "                                color=color)"
      ],
      "execution_count": 0,
      "outputs": []
    },
    {
      "cell_type": "markdown",
      "metadata": {
        "id": "l9zw34jMzpLm",
        "colab_type": "text"
      },
      "source": [
        "Давайте посмотрим на нулевое изображение, предсказание и массив предсказаний."
      ]
    },
    {
      "cell_type": "code",
      "metadata": {
        "id": "SlIQz__kwDJO",
        "colab_type": "code",
        "outputId": "00cf4834-4be1-4fce-9ad6-9f1105392e1f",
        "colab": {
          "base_uri": "https://localhost:8080/",
          "height": 196
        }
      },
      "source": [
        "i = 0\n",
        "plt.figure(figsize=(6,3))\n",
        "plt.subplot(1,2,1)\n",
        "plot_image(i, predictions, test_labels, test_images)\n",
        "plt.show()"
      ],
      "execution_count": 0,
      "outputs": [
        {
          "output_type": "display_data",
          "data": {
            "image/png": "[encoded data removed]",
            "text/plain": [
              "<Figure size 432x216 with 1 Axes>"
            ]
          },
          "metadata": {
            "tags": []
          }
        }
      ]
    },
    {
      "cell_type": "markdown",
      "metadata": {
        "id": "EAdJFeJVzuWG",
        "colab_type": "text"
      },
      "source": [
        "Давайте посмотрим несколько изображений с их прогнозами. Цвет верных предсказаний синий, а неверных - красный. Число это процент уверенности (от 100) для предсказанной метки. Отметим, что модель может ошибаться даже если она очень уверена."
      ]
    },
    {
      "cell_type": "code",
      "metadata": {
        "id": "snzYkEdEwGVX",
        "colab_type": "code",
        "outputId": "485219e9-ca24-4622-c285-e23dee5232db",
        "colab": {
          "base_uri": "https://localhost:8080/",
          "height": 480
        }
      },
      "source": [
        "# Отображаем первые X тестовых изображений, их предсказанную и настоящую метки.\n",
        "# Корректные предсказания окрашиваем в синий цвет, ошибочные в красный.\n",
        "num_rows = 4\n",
        "num_cols = 4\n",
        "num_images = num_rows*num_cols\n",
        "plt.figure(figsize=(2*2*num_cols, 2*num_rows))\n",
        "for i in range(num_images):\n",
        "  plt.subplot(num_rows, 2*num_cols, 2*i+1)\n",
        "  plot_image(i, predictions, test_labels, test_images)\n",
        "plt.show()"
      ],
      "execution_count": 0,
      "outputs": [
        {
          "output_type": "display_data",
          "data": {
            "image/png": "[encoded data removed]",
            "text/plain": [
              "<Figure size 1152x576 with 16 Axes>"
            ]
          },
          "metadata": {
            "tags": []
          }
        }
      ]
    }
  ]
}